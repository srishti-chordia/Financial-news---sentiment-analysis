{
 "cells": [
  {
   "cell_type": "markdown",
   "metadata": {},
   "source": [
    "Financial Market News - Sentiment Analysis"
   ]
  },
  {
   "cell_type": "code",
   "execution_count": 1,
   "metadata": {},
   "outputs": [],
   "source": [
    "#import libraries\n",
    "import pandas as pd\n",
    "import numpy as np"
   ]
  },
  {
   "cell_type": "markdown",
   "metadata": {},
   "source": [
    "Loading The Dataset"
   ]
  },
  {
   "cell_type": "code",
   "execution_count": 6,
   "metadata": {},
   "outputs": [],
   "source": [
    "# import dataset\n",
    "df = pd.read_csv(\"dataset.csv\", encoding=\"latin1\")"
   ]
  },
  {
   "cell_type": "markdown",
   "metadata": {},
   "source": [
    "Data Visualization"
   ]
  },
  {
   "cell_type": "code",
   "execution_count": 7,
   "metadata": {},
   "outputs": [
    {
     "data": {
      "text/html": [
       "<div>\n",
       "<style scoped>\n",
       "    .dataframe tbody tr th:only-of-type {\n",
       "        vertical-align: middle;\n",
       "    }\n",
       "\n",
       "    .dataframe tbody tr th {\n",
       "        vertical-align: top;\n",
       "    }\n",
       "\n",
       "    .dataframe thead th {\n",
       "        text-align: right;\n",
       "    }\n",
       "</style>\n",
       "<table border=\"1\" class=\"dataframe\">\n",
       "  <thead>\n",
       "    <tr style=\"text-align: right;\">\n",
       "      <th></th>\n",
       "      <th>Date</th>\n",
       "      <th>Label</th>\n",
       "      <th>News 1</th>\n",
       "      <th>News 2</th>\n",
       "      <th>News 3</th>\n",
       "      <th>News 4</th>\n",
       "      <th>News 5</th>\n",
       "      <th>News 6</th>\n",
       "      <th>News 7</th>\n",
       "      <th>News 8</th>\n",
       "      <th>...</th>\n",
       "      <th>News 16</th>\n",
       "      <th>News 17</th>\n",
       "      <th>News 18</th>\n",
       "      <th>News 19</th>\n",
       "      <th>News 20</th>\n",
       "      <th>News 21</th>\n",
       "      <th>News 22</th>\n",
       "      <th>News 23</th>\n",
       "      <th>News 24</th>\n",
       "      <th>News 25</th>\n",
       "    </tr>\n",
       "  </thead>\n",
       "  <tbody>\n",
       "    <tr>\n",
       "      <th>0</th>\n",
       "      <td>01-01-2010</td>\n",
       "      <td>0</td>\n",
       "      <td>McIlroy's men catch cold from Gudjonsson</td>\n",
       "      <td>Obituary: Brian Walsh</td>\n",
       "      <td>Workplace blues leave employers in the red</td>\n",
       "      <td>Classical review: Rattle</td>\n",
       "      <td>Dance review: Merce Cunningham</td>\n",
       "      <td>Genetic tests to be used in setting premiums</td>\n",
       "      <td>Opera review: La Bohème</td>\n",
       "      <td>Pop review: Britney Spears</td>\n",
       "      <td>...</td>\n",
       "      <td>Finland 0 - 0 England</td>\n",
       "      <td>Healy a marked man</td>\n",
       "      <td>Happy birthday Harpers &amp; Queen</td>\n",
       "      <td>Win unlimited access to the Raindance film fes...</td>\n",
       "      <td>Labour pledges £800m to bridge north-south divide</td>\n",
       "      <td>Wales: Lib-Lab pact firm despite resignation</td>\n",
       "      <td>Donald Dewar</td>\n",
       "      <td>Regenerating homes  regenerates well-being in ...</td>\n",
       "      <td>Win £100 worth of underwear</td>\n",
       "      <td>TV guide: Random views</td>\n",
       "    </tr>\n",
       "    <tr>\n",
       "      <th>1</th>\n",
       "      <td>02-01-2010</td>\n",
       "      <td>0</td>\n",
       "      <td>Warning from history points to crash</td>\n",
       "      <td>Investors flee to dollar haven</td>\n",
       "      <td>Banks and tobacco in favour</td>\n",
       "      <td>Review: Llama Farmers</td>\n",
       "      <td>War jitters lead to sell-off</td>\n",
       "      <td>Your not-so-secret history</td>\n",
       "      <td>Review: The Northern Sinfonia</td>\n",
       "      <td>Review: Hysteria</td>\n",
       "      <td>...</td>\n",
       "      <td>Why Wenger will stick to his Gunners</td>\n",
       "      <td>Out of luck England hit rock bottom</td>\n",
       "      <td>Wilkinson out of his depth</td>\n",
       "      <td>Kinsella sparks Irish power play</td>\n",
       "      <td>Brown banished as Scots rebound</td>\n",
       "      <td>Battling Wales cling to lifeline</td>\n",
       "      <td>Ehiogu close to sealing Boro move</td>\n",
       "      <td>Man-to-man marking</td>\n",
       "      <td>Match stats</td>\n",
       "      <td>French referee at centre of storm is no strang...</td>\n",
       "    </tr>\n",
       "    <tr>\n",
       "      <th>2</th>\n",
       "      <td>03-01-2010</td>\n",
       "      <td>0</td>\n",
       "      <td>Comment: Why Israel's peaceniks feel betrayed</td>\n",
       "      <td>Court deals blow to seizure of drug assets</td>\n",
       "      <td>An ideal target for spooks</td>\n",
       "      <td>World steps between two sides intent on war</td>\n",
       "      <td>What the region's papers say</td>\n",
       "      <td>Comment: Fear and rage in Palestine</td>\n",
       "      <td>Poverty and resentment fuels Palestinian fury</td>\n",
       "      <td>Republican feud fear as dissident is killed</td>\n",
       "      <td>...</td>\n",
       "      <td>FTSE goes upwardly mobile</td>\n",
       "      <td>At this price?  BP Amoco</td>\n",
       "      <td>Go fish</td>\n",
       "      <td>Bosnian Serb blows himself up to evade law</td>\n",
       "      <td>Orange float delayed to 2001</td>\n",
       "      <td>Angry factory workers root out fear, favours a...</td>\n",
       "      <td>Smith defied advice on dome payout</td>\n",
       "      <td>Xerox takes the axe to jobs</td>\n",
       "      <td>Comment: Refugees in Britain</td>\n",
       "      <td>Maverick who sparked the new intifada</td>\n",
       "    </tr>\n",
       "    <tr>\n",
       "      <th>3</th>\n",
       "      <td>04-01-2010</td>\n",
       "      <td>1</td>\n",
       "      <td>£750,000-a-goal Weah aims parting shot</td>\n",
       "      <td>Newcastle pay for Fletcher years</td>\n",
       "      <td>Brown sent to the stands for Scotland qualifier</td>\n",
       "      <td>Tourists wary of breaking new ground</td>\n",
       "      <td>Canary Wharf climbs into the FTSE 100</td>\n",
       "      <td>Review: Bill Bailey</td>\n",
       "      <td>Review: Classical</td>\n",
       "      <td>Review: New Contemporaries 2000</td>\n",
       "      <td>...</td>\n",
       "      <td>More cash on way for counties</td>\n",
       "      <td>Cairns carries Kiwis to victory</td>\n",
       "      <td>Year of Blanchflower's flourish when Spurs sto...</td>\n",
       "      <td>New direct approach brings only pay-per-blues</td>\n",
       "      <td>Third Division  round-up</td>\n",
       "      <td>Second Division  round-up</td>\n",
       "      <td>First Division  round-up</td>\n",
       "      <td>McLean ends his career with a punch</td>\n",
       "      <td>Heskey grabs triple crown</td>\n",
       "      <td>Weah on his way as City march on</td>\n",
       "    </tr>\n",
       "    <tr>\n",
       "      <th>4</th>\n",
       "      <td>05-01-2010</td>\n",
       "      <td>1</td>\n",
       "      <td>Leeds arrive in Turkey to the silence of the fans</td>\n",
       "      <td>One woman's vision offers loan lifeline</td>\n",
       "      <td>Working Lives: How world leaders worked</td>\n",
       "      <td>Working Lives: Tricks of the trade</td>\n",
       "      <td>Working Lives: six-hour days, long lunches and...</td>\n",
       "      <td>Pop review: We Love UK</td>\n",
       "      <td>World music review: Marisa Monte</td>\n",
       "      <td>Art review:  Hollingsworth/Heyer</td>\n",
       "      <td>...</td>\n",
       "      <td>Duisenberg in double trouble</td>\n",
       "      <td>Pru to cut pension charges</td>\n",
       "      <td>Art review: Paul Graham</td>\n",
       "      <td>Shearer shot sparks Boro humiliation</td>\n",
       "      <td>Ridsdale's lingering fears as Leeds revisit Tu...</td>\n",
       "      <td>Champions League: Rangers v Galatasaray</td>\n",
       "      <td>Champions League: Lazio v Arsenal</td>\n",
       "      <td>Lazio 1 - 1 Arsenal</td>\n",
       "      <td>England in Pakistan</td>\n",
       "      <td>England given olive-branch reception</td>\n",
       "    </tr>\n",
       "  </tbody>\n",
       "</table>\n",
       "<p>5 rows × 27 columns</p>\n",
       "</div>"
      ],
      "text/plain": [
       "         Date  Label                                             News 1  \\\n",
       "0  01-01-2010      0           McIlroy's men catch cold from Gudjonsson   \n",
       "1  02-01-2010      0               Warning from history points to crash   \n",
       "2  03-01-2010      0      Comment: Why Israel's peaceniks feel betrayed   \n",
       "3  04-01-2010      1             £750,000-a-goal Weah aims parting shot   \n",
       "4  05-01-2010      1  Leeds arrive in Turkey to the silence of the fans   \n",
       "\n",
       "                                       News 2  \\\n",
       "0                       Obituary: Brian Walsh   \n",
       "1              Investors flee to dollar haven   \n",
       "2  Court deals blow to seizure of drug assets   \n",
       "3            Newcastle pay for Fletcher years   \n",
       "4     One woman's vision offers loan lifeline   \n",
       "\n",
       "                                            News 3  \\\n",
       "0       Workplace blues leave employers in the red   \n",
       "1                      Banks and tobacco in favour   \n",
       "2                       An ideal target for spooks   \n",
       "3  Brown sent to the stands for Scotland qualifier   \n",
       "4          Working Lives: How world leaders worked   \n",
       "\n",
       "                                        News 4  \\\n",
       "0                     Classical review: Rattle   \n",
       "1                        Review: Llama Farmers   \n",
       "2  World steps between two sides intent on war   \n",
       "3         Tourists wary of breaking new ground   \n",
       "4           Working Lives: Tricks of the trade   \n",
       "\n",
       "                                              News 5  \\\n",
       "0                     Dance review: Merce Cunningham   \n",
       "1                       War jitters lead to sell-off   \n",
       "2                       What the region's papers say   \n",
       "3              Canary Wharf climbs into the FTSE 100   \n",
       "4  Working Lives: six-hour days, long lunches and...   \n",
       "\n",
       "                                         News 6  \\\n",
       "0  Genetic tests to be used in setting premiums   \n",
       "1                    Your not-so-secret history   \n",
       "2           Comment: Fear and rage in Palestine   \n",
       "3                           Review: Bill Bailey   \n",
       "4                        Pop review: We Love UK   \n",
       "\n",
       "                                          News 7  \\\n",
       "0                        Opera review: La Bohème   \n",
       "1                  Review: The Northern Sinfonia   \n",
       "2  Poverty and resentment fuels Palestinian fury   \n",
       "3                              Review: Classical   \n",
       "4               World music review: Marisa Monte   \n",
       "\n",
       "                                        News 8  ...  \\\n",
       "0                   Pop review: Britney Spears  ...   \n",
       "1                             Review: Hysteria  ...   \n",
       "2  Republican feud fear as dissident is killed  ...   \n",
       "3              Review: New Contemporaries 2000  ...   \n",
       "4             Art review:  Hollingsworth/Heyer  ...   \n",
       "\n",
       "                                News 16                              News 17  \\\n",
       "0                 Finland 0 - 0 England                   Healy a marked man   \n",
       "1  Why Wenger will stick to his Gunners  Out of luck England hit rock bottom   \n",
       "2             FTSE goes upwardly mobile             At this price?  BP Amoco   \n",
       "3         More cash on way for counties      Cairns carries Kiwis to victory   \n",
       "4          Duisenberg in double trouble           Pru to cut pension charges   \n",
       "\n",
       "                                             News 18  \\\n",
       "0                     Happy birthday Harpers & Queen   \n",
       "1                         Wilkinson out of his depth   \n",
       "2                                            Go fish   \n",
       "3  Year of Blanchflower's flourish when Spurs sto...   \n",
       "4                            Art review: Paul Graham   \n",
       "\n",
       "                                             News 19  \\\n",
       "0  Win unlimited access to the Raindance film fes...   \n",
       "1                   Kinsella sparks Irish power play   \n",
       "2         Bosnian Serb blows himself up to evade law   \n",
       "3      New direct approach brings only pay-per-blues   \n",
       "4               Shearer shot sparks Boro humiliation   \n",
       "\n",
       "                                             News 20  \\\n",
       "0  Labour pledges £800m to bridge north-south divide   \n",
       "1                    Brown banished as Scots rebound   \n",
       "2                       Orange float delayed to 2001   \n",
       "3                           Third Division  round-up   \n",
       "4  Ridsdale's lingering fears as Leeds revisit Tu...   \n",
       "\n",
       "                                             News 21  \\\n",
       "0       Wales: Lib-Lab pact firm despite resignation   \n",
       "1                   Battling Wales cling to lifeline   \n",
       "2  Angry factory workers root out fear, favours a...   \n",
       "3                          Second Division  round-up   \n",
       "4            Champions League: Rangers v Galatasaray   \n",
       "\n",
       "                              News 22  \\\n",
       "0                        Donald Dewar   \n",
       "1   Ehiogu close to sealing Boro move   \n",
       "2  Smith defied advice on dome payout   \n",
       "3            First Division  round-up   \n",
       "4   Champions League: Lazio v Arsenal   \n",
       "\n",
       "                                             News 23  \\\n",
       "0  Regenerating homes  regenerates well-being in ...   \n",
       "1                                 Man-to-man marking   \n",
       "2                        Xerox takes the axe to jobs   \n",
       "3                McLean ends his career with a punch   \n",
       "4                                Lazio 1 - 1 Arsenal   \n",
       "\n",
       "                        News 24  \\\n",
       "0   Win £100 worth of underwear   \n",
       "1                   Match stats   \n",
       "2  Comment: Refugees in Britain   \n",
       "3     Heskey grabs triple crown   \n",
       "4           England in Pakistan   \n",
       "\n",
       "                                             News 25  \n",
       "0                             TV guide: Random views  \n",
       "1  French referee at centre of storm is no strang...  \n",
       "2              Maverick who sparked the new intifada  \n",
       "3                   Weah on his way as City march on  \n",
       "4               England given olive-branch reception  \n",
       "\n",
       "[5 rows x 27 columns]"
      ]
     },
     "execution_count": 7,
     "metadata": {},
     "output_type": "execute_result"
    }
   ],
   "source": [
    "df.head()"
   ]
  },
  {
   "cell_type": "code",
   "execution_count": 8,
   "metadata": {},
   "outputs": [
    {
     "name": "stdout",
     "output_type": "stream",
     "text": [
      "<class 'pandas.core.frame.DataFrame'>\n",
      "RangeIndex: 4101 entries, 0 to 4100\n",
      "Data columns (total 27 columns):\n",
      " #   Column   Non-Null Count  Dtype \n",
      "---  ------   --------------  ----- \n",
      " 0   Date     4101 non-null   object\n",
      " 1   Label    4101 non-null   int64 \n",
      " 2   News 1   4101 non-null   object\n",
      " 3   News 2   4101 non-null   object\n",
      " 4   News 3   4101 non-null   object\n",
      " 5   News 4   4101 non-null   object\n",
      " 6   News 5   4101 non-null   object\n",
      " 7   News 6   4101 non-null   object\n",
      " 8   News 7   4101 non-null   object\n",
      " 9   News 8   4101 non-null   object\n",
      " 10  News 9   4101 non-null   object\n",
      " 11  News 10  4101 non-null   object\n",
      " 12  News 11  4101 non-null   object\n",
      " 13  News 12  4101 non-null   object\n",
      " 14  News 13  4101 non-null   object\n",
      " 15  News 14  4101 non-null   object\n",
      " 16  News 15  4101 non-null   object\n",
      " 17  News 16  4101 non-null   object\n",
      " 18  News 17  4101 non-null   object\n",
      " 19  News 18  4101 non-null   object\n",
      " 20  News 19  4101 non-null   object\n",
      " 21  News 20  4101 non-null   object\n",
      " 22  News 21  4101 non-null   object\n",
      " 23  News 22  4101 non-null   object\n",
      " 24  News 23  4100 non-null   object\n",
      " 25  News 24  4098 non-null   object\n",
      " 26  News 25  4098 non-null   object\n",
      "dtypes: int64(1), object(26)\n",
      "memory usage: 865.2+ KB\n"
     ]
    }
   ],
   "source": [
    "df.info()"
   ]
  },
  {
   "cell_type": "code",
   "execution_count": 9,
   "metadata": {},
   "outputs": [
    {
     "data": {
      "text/plain": [
       "(4101, 27)"
      ]
     },
     "execution_count": 9,
     "metadata": {},
     "output_type": "execute_result"
    }
   ],
   "source": [
    "df.shape"
   ]
  },
  {
   "cell_type": "code",
   "execution_count": 10,
   "metadata": {},
   "outputs": [
    {
     "data": {
      "text/plain": [
       "Index(['Date', 'Label', 'News 1', 'News 2', 'News 3', 'News 4', 'News 5',\n",
       "       'News 6', 'News 7', 'News 8', 'News 9', 'News 10', 'News 11', 'News 12',\n",
       "       'News 13', 'News 14', 'News 15', 'News 16', 'News 17', 'News 18',\n",
       "       'News 19', 'News 20', 'News 21', 'News 22', 'News 23', 'News 24',\n",
       "       'News 25'],\n",
       "      dtype='object')"
      ]
     },
     "execution_count": 10,
     "metadata": {},
     "output_type": "execute_result"
    }
   ],
   "source": [
    "df.columns"
   ]
  },
  {
   "cell_type": "code",
   "execution_count": 11,
   "metadata": {},
   "outputs": [
    {
     "data": {
      "text/plain": [
       "\"Warning from history points to crash Investors flee to dollar haven Banks and tobacco in favour Review: Llama Farmers War jitters lead to sell-off Your not-so-secret history Review: The Northern Sinfonia Review: Hysteria Review: The Guardsman Opera: The Marriage of Figaro Review: The Turk in Italy Deutsche spells out its plans for diversification Traders' panic sends oil prices skyward TV sport chief leaves home over romance Leader: Hi-tech twitch Why Wenger will stick to his Gunners Out of luck England hit rock bottom Wilkinson out of his depth Kinsella sparks Irish power play Brown banished as Scots rebound Battling Wales cling to lifeline Ehiogu close to sealing Boro move Man-to-man marking Match stats French referee at centre of storm is no stranger to controversy\""
      ]
     },
     "execution_count": 11,
     "metadata": {},
     "output_type": "execute_result"
    }
   ],
   "source": [
    "' '.join(str(x) for x in df.iloc[1,2:27])"
   ]
  },
  {
   "cell_type": "code",
   "execution_count": 12,
   "metadata": {},
   "outputs": [
    {
     "data": {
      "text/plain": [
       "RangeIndex(start=0, stop=4101, step=1)"
      ]
     },
     "execution_count": 12,
     "metadata": {},
     "output_type": "execute_result"
    }
   ],
   "source": [
    "df.index"
   ]
  },
  {
   "cell_type": "code",
   "execution_count": 13,
   "metadata": {},
   "outputs": [
    {
     "data": {
      "text/plain": [
       "4101"
      ]
     },
     "execution_count": 13,
     "metadata": {},
     "output_type": "execute_result"
    }
   ],
   "source": [
    "len(df.index)"
   ]
  },
  {
   "cell_type": "code",
   "execution_count": 14,
   "metadata": {},
   "outputs": [],
   "source": [
    "news = []\n",
    "for row in range(0, len(df.index)):\n",
    "    news.append(' '.join (str(x) for x in df.iloc[row,2:27]))"
   ]
  },
  {
   "cell_type": "code",
   "execution_count": 15,
   "metadata": {},
   "outputs": [
    {
     "data": {
      "text/plain": [
       "list"
      ]
     },
     "execution_count": 15,
     "metadata": {},
     "output_type": "execute_result"
    }
   ],
   "source": [
    "type(news)"
   ]
  },
  {
   "cell_type": "code",
   "execution_count": 16,
   "metadata": {},
   "outputs": [
    {
     "data": {
      "text/plain": [
       "\"McIlroy's men catch cold from Gudjonsson Obituary: Brian Walsh Workplace blues leave employers in the red Classical review: Rattle Dance review: Merce Cunningham Genetic tests to be used in setting premiums Opera review: La Bohème Pop review: Britney Spears Theatre review: The Circle Wales face a fraught night Under-21  round-up Smith off to blot his copybook Finns taking the mickey Praise wasted as Brown studies injury options Ireland wary of minnows Finland 0 - 0 England Healy a marked man Happy birthday Harpers & Queen Win unlimited access to the Raindance film festival Labour pledges £800m to bridge north-south divide Wales: Lib-Lab pact firm despite resignation Donald Dewar Regenerating homes  regenerates well-being in people Win £100 worth of underwear TV guide: Random views\""
      ]
     },
     "execution_count": 16,
     "metadata": {},
     "output_type": "execute_result"
    }
   ],
   "source": [
    "news[0]"
   ]
  },
  {
   "cell_type": "code",
   "execution_count": 17,
   "metadata": {},
   "outputs": [],
   "source": [
    "X = news"
   ]
  },
  {
   "cell_type": "code",
   "execution_count": 18,
   "metadata": {},
   "outputs": [
    {
     "data": {
      "text/plain": [
       "list"
      ]
     },
     "execution_count": 18,
     "metadata": {},
     "output_type": "execute_result"
    }
   ],
   "source": [
    "type(X)"
   ]
  },
  {
   "cell_type": "markdown",
   "metadata": {},
   "source": [
    "Get Feature Text Conversion to Bag of Words"
   ]
  },
  {
   "cell_type": "code",
   "execution_count": 19,
   "metadata": {},
   "outputs": [],
   "source": [
    "from sklearn.feature_extraction.text import CountVectorizer"
   ]
  },
  {
   "cell_type": "code",
   "execution_count": 20,
   "metadata": {},
   "outputs": [],
   "source": [
    "cv = CountVectorizer(lowercase= True, ngram_range=(1,1))"
   ]
  },
  {
   "cell_type": "code",
   "execution_count": 21,
   "metadata": {},
   "outputs": [],
   "source": [
    "X = cv.fit_transform(X)"
   ]
  },
  {
   "cell_type": "code",
   "execution_count": 22,
   "metadata": {},
   "outputs": [
    {
     "data": {
      "text/plain": [
       "(4101, 48527)"
      ]
     },
     "execution_count": 22,
     "metadata": {},
     "output_type": "execute_result"
    }
   ],
   "source": [
    "X.shape"
   ]
  },
  {
   "cell_type": "code",
   "execution_count": 23,
   "metadata": {},
   "outputs": [],
   "source": [
    "y = df['Label']"
   ]
  },
  {
   "cell_type": "code",
   "execution_count": 24,
   "metadata": {},
   "outputs": [
    {
     "data": {
      "text/plain": [
       "(4101,)"
      ]
     },
     "execution_count": 24,
     "metadata": {},
     "output_type": "execute_result"
    }
   ],
   "source": [
    "y.shape"
   ]
  },
  {
   "cell_type": "markdown",
   "metadata": {},
   "source": [
    "Get Train Test Split"
   ]
  },
  {
   "cell_type": "code",
   "execution_count": 25,
   "metadata": {},
   "outputs": [],
   "source": [
    "from sklearn.model_selection import train_test_split"
   ]
  },
  {
   "cell_type": "code",
   "execution_count": 26,
   "metadata": {},
   "outputs": [],
   "source": [
    "X_train, X_test, y_train, y_test = train_test_split( X, y, test_size=0.3, stratify= y, random_state=42)"
   ]
  },
  {
   "cell_type": "code",
   "execution_count": 27,
   "metadata": {},
   "outputs": [],
   "source": [
    "from sklearn.ensemble import RandomForestClassifier"
   ]
  },
  {
   "cell_type": "code",
   "execution_count": 28,
   "metadata": {},
   "outputs": [],
   "source": [
    "rf = RandomForestClassifier(n_estimators=200)"
   ]
  },
  {
   "cell_type": "code",
   "execution_count": 29,
   "metadata": {},
   "outputs": [
    {
     "data": {
      "text/html": [
       "<style>#sk-container-id-1 {\n",
       "  /* Definition of color scheme common for light and dark mode */\n",
       "  --sklearn-color-text: black;\n",
       "  --sklearn-color-line: gray;\n",
       "  /* Definition of color scheme for unfitted estimators */\n",
       "  --sklearn-color-unfitted-level-0: #fff5e6;\n",
       "  --sklearn-color-unfitted-level-1: #f6e4d2;\n",
       "  --sklearn-color-unfitted-level-2: #ffe0b3;\n",
       "  --sklearn-color-unfitted-level-3: chocolate;\n",
       "  /* Definition of color scheme for fitted estimators */\n",
       "  --sklearn-color-fitted-level-0: #f0f8ff;\n",
       "  --sklearn-color-fitted-level-1: #d4ebff;\n",
       "  --sklearn-color-fitted-level-2: #b3dbfd;\n",
       "  --sklearn-color-fitted-level-3: cornflowerblue;\n",
       "\n",
       "  /* Specific color for light theme */\n",
       "  --sklearn-color-text-on-default-background: var(--sg-text-color, var(--theme-code-foreground, var(--jp-content-font-color1, black)));\n",
       "  --sklearn-color-background: var(--sg-background-color, var(--theme-background, var(--jp-layout-color0, white)));\n",
       "  --sklearn-color-border-box: var(--sg-text-color, var(--theme-code-foreground, var(--jp-content-font-color1, black)));\n",
       "  --sklearn-color-icon: #696969;\n",
       "\n",
       "  @media (prefers-color-scheme: dark) {\n",
       "    /* Redefinition of color scheme for dark theme */\n",
       "    --sklearn-color-text-on-default-background: var(--sg-text-color, var(--theme-code-foreground, var(--jp-content-font-color1, white)));\n",
       "    --sklearn-color-background: var(--sg-background-color, var(--theme-background, var(--jp-layout-color0, #111)));\n",
       "    --sklearn-color-border-box: var(--sg-text-color, var(--theme-code-foreground, var(--jp-content-font-color1, white)));\n",
       "    --sklearn-color-icon: #878787;\n",
       "  }\n",
       "}\n",
       "\n",
       "#sk-container-id-1 {\n",
       "  color: var(--sklearn-color-text);\n",
       "}\n",
       "\n",
       "#sk-container-id-1 pre {\n",
       "  padding: 0;\n",
       "}\n",
       "\n",
       "#sk-container-id-1 input.sk-hidden--visually {\n",
       "  border: 0;\n",
       "  clip: rect(1px 1px 1px 1px);\n",
       "  clip: rect(1px, 1px, 1px, 1px);\n",
       "  height: 1px;\n",
       "  margin: -1px;\n",
       "  overflow: hidden;\n",
       "  padding: 0;\n",
       "  position: absolute;\n",
       "  width: 1px;\n",
       "}\n",
       "\n",
       "#sk-container-id-1 div.sk-dashed-wrapped {\n",
       "  border: 1px dashed var(--sklearn-color-line);\n",
       "  margin: 0 0.4em 0.5em 0.4em;\n",
       "  box-sizing: border-box;\n",
       "  padding-bottom: 0.4em;\n",
       "  background-color: var(--sklearn-color-background);\n",
       "}\n",
       "\n",
       "#sk-container-id-1 div.sk-container {\n",
       "  /* jupyter's `normalize.less` sets `[hidden] { display: none; }`\n",
       "     but bootstrap.min.css set `[hidden] { display: none !important; }`\n",
       "     so we also need the `!important` here to be able to override the\n",
       "     default hidden behavior on the sphinx rendered scikit-learn.org.\n",
       "     See: https://github.com/scikit-learn/scikit-learn/issues/21755 */\n",
       "  display: inline-block !important;\n",
       "  position: relative;\n",
       "}\n",
       "\n",
       "#sk-container-id-1 div.sk-text-repr-fallback {\n",
       "  display: none;\n",
       "}\n",
       "\n",
       "div.sk-parallel-item,\n",
       "div.sk-serial,\n",
       "div.sk-item {\n",
       "  /* draw centered vertical line to link estimators */\n",
       "  background-image: linear-gradient(var(--sklearn-color-text-on-default-background), var(--sklearn-color-text-on-default-background));\n",
       "  background-size: 2px 100%;\n",
       "  background-repeat: no-repeat;\n",
       "  background-position: center center;\n",
       "}\n",
       "\n",
       "/* Parallel-specific style estimator block */\n",
       "\n",
       "#sk-container-id-1 div.sk-parallel-item::after {\n",
       "  content: \"\";\n",
       "  width: 100%;\n",
       "  border-bottom: 2px solid var(--sklearn-color-text-on-default-background);\n",
       "  flex-grow: 1;\n",
       "}\n",
       "\n",
       "#sk-container-id-1 div.sk-parallel {\n",
       "  display: flex;\n",
       "  align-items: stretch;\n",
       "  justify-content: center;\n",
       "  background-color: var(--sklearn-color-background);\n",
       "  position: relative;\n",
       "}\n",
       "\n",
       "#sk-container-id-1 div.sk-parallel-item {\n",
       "  display: flex;\n",
       "  flex-direction: column;\n",
       "}\n",
       "\n",
       "#sk-container-id-1 div.sk-parallel-item:first-child::after {\n",
       "  align-self: flex-end;\n",
       "  width: 50%;\n",
       "}\n",
       "\n",
       "#sk-container-id-1 div.sk-parallel-item:last-child::after {\n",
       "  align-self: flex-start;\n",
       "  width: 50%;\n",
       "}\n",
       "\n",
       "#sk-container-id-1 div.sk-parallel-item:only-child::after {\n",
       "  width: 0;\n",
       "}\n",
       "\n",
       "/* Serial-specific style estimator block */\n",
       "\n",
       "#sk-container-id-1 div.sk-serial {\n",
       "  display: flex;\n",
       "  flex-direction: column;\n",
       "  align-items: center;\n",
       "  background-color: var(--sklearn-color-background);\n",
       "  padding-right: 1em;\n",
       "  padding-left: 1em;\n",
       "}\n",
       "\n",
       "\n",
       "/* Toggleable style: style used for estimator/Pipeline/ColumnTransformer box that is\n",
       "clickable and can be expanded/collapsed.\n",
       "- Pipeline and ColumnTransformer use this feature and define the default style\n",
       "- Estimators will overwrite some part of the style using the `sk-estimator` class\n",
       "*/\n",
       "\n",
       "/* Pipeline and ColumnTransformer style (default) */\n",
       "\n",
       "#sk-container-id-1 div.sk-toggleable {\n",
       "  /* Default theme specific background. It is overwritten whether we have a\n",
       "  specific estimator or a Pipeline/ColumnTransformer */\n",
       "  background-color: var(--sklearn-color-background);\n",
       "}\n",
       "\n",
       "/* Toggleable label */\n",
       "#sk-container-id-1 label.sk-toggleable__label {\n",
       "  cursor: pointer;\n",
       "  display: block;\n",
       "  width: 100%;\n",
       "  margin-bottom: 0;\n",
       "  padding: 0.5em;\n",
       "  box-sizing: border-box;\n",
       "  text-align: center;\n",
       "}\n",
       "\n",
       "#sk-container-id-1 label.sk-toggleable__label-arrow:before {\n",
       "  /* Arrow on the left of the label */\n",
       "  content: \"▸\";\n",
       "  float: left;\n",
       "  margin-right: 0.25em;\n",
       "  color: var(--sklearn-color-icon);\n",
       "}\n",
       "\n",
       "#sk-container-id-1 label.sk-toggleable__label-arrow:hover:before {\n",
       "  color: var(--sklearn-color-text);\n",
       "}\n",
       "\n",
       "/* Toggleable content - dropdown */\n",
       "\n",
       "#sk-container-id-1 div.sk-toggleable__content {\n",
       "  max-height: 0;\n",
       "  max-width: 0;\n",
       "  overflow: hidden;\n",
       "  text-align: left;\n",
       "  /* unfitted */\n",
       "  background-color: var(--sklearn-color-unfitted-level-0);\n",
       "}\n",
       "\n",
       "#sk-container-id-1 div.sk-toggleable__content.fitted {\n",
       "  /* fitted */\n",
       "  background-color: var(--sklearn-color-fitted-level-0);\n",
       "}\n",
       "\n",
       "#sk-container-id-1 div.sk-toggleable__content pre {\n",
       "  margin: 0.2em;\n",
       "  border-radius: 0.25em;\n",
       "  color: var(--sklearn-color-text);\n",
       "  /* unfitted */\n",
       "  background-color: var(--sklearn-color-unfitted-level-0);\n",
       "}\n",
       "\n",
       "#sk-container-id-1 div.sk-toggleable__content.fitted pre {\n",
       "  /* unfitted */\n",
       "  background-color: var(--sklearn-color-fitted-level-0);\n",
       "}\n",
       "\n",
       "#sk-container-id-1 input.sk-toggleable__control:checked~div.sk-toggleable__content {\n",
       "  /* Expand drop-down */\n",
       "  max-height: 200px;\n",
       "  max-width: 100%;\n",
       "  overflow: auto;\n",
       "}\n",
       "\n",
       "#sk-container-id-1 input.sk-toggleable__control:checked~label.sk-toggleable__label-arrow:before {\n",
       "  content: \"▾\";\n",
       "}\n",
       "\n",
       "/* Pipeline/ColumnTransformer-specific style */\n",
       "\n",
       "#sk-container-id-1 div.sk-label input.sk-toggleable__control:checked~label.sk-toggleable__label {\n",
       "  color: var(--sklearn-color-text);\n",
       "  background-color: var(--sklearn-color-unfitted-level-2);\n",
       "}\n",
       "\n",
       "#sk-container-id-1 div.sk-label.fitted input.sk-toggleable__control:checked~label.sk-toggleable__label {\n",
       "  background-color: var(--sklearn-color-fitted-level-2);\n",
       "}\n",
       "\n",
       "/* Estimator-specific style */\n",
       "\n",
       "/* Colorize estimator box */\n",
       "#sk-container-id-1 div.sk-estimator input.sk-toggleable__control:checked~label.sk-toggleable__label {\n",
       "  /* unfitted */\n",
       "  background-color: var(--sklearn-color-unfitted-level-2);\n",
       "}\n",
       "\n",
       "#sk-container-id-1 div.sk-estimator.fitted input.sk-toggleable__control:checked~label.sk-toggleable__label {\n",
       "  /* fitted */\n",
       "  background-color: var(--sklearn-color-fitted-level-2);\n",
       "}\n",
       "\n",
       "#sk-container-id-1 div.sk-label label.sk-toggleable__label,\n",
       "#sk-container-id-1 div.sk-label label {\n",
       "  /* The background is the default theme color */\n",
       "  color: var(--sklearn-color-text-on-default-background);\n",
       "}\n",
       "\n",
       "/* On hover, darken the color of the background */\n",
       "#sk-container-id-1 div.sk-label:hover label.sk-toggleable__label {\n",
       "  color: var(--sklearn-color-text);\n",
       "  background-color: var(--sklearn-color-unfitted-level-2);\n",
       "}\n",
       "\n",
       "/* Label box, darken color on hover, fitted */\n",
       "#sk-container-id-1 div.sk-label.fitted:hover label.sk-toggleable__label.fitted {\n",
       "  color: var(--sklearn-color-text);\n",
       "  background-color: var(--sklearn-color-fitted-level-2);\n",
       "}\n",
       "\n",
       "/* Estimator label */\n",
       "\n",
       "#sk-container-id-1 div.sk-label label {\n",
       "  font-family: monospace;\n",
       "  font-weight: bold;\n",
       "  display: inline-block;\n",
       "  line-height: 1.2em;\n",
       "}\n",
       "\n",
       "#sk-container-id-1 div.sk-label-container {\n",
       "  text-align: center;\n",
       "}\n",
       "\n",
       "/* Estimator-specific */\n",
       "#sk-container-id-1 div.sk-estimator {\n",
       "  font-family: monospace;\n",
       "  border: 1px dotted var(--sklearn-color-border-box);\n",
       "  border-radius: 0.25em;\n",
       "  box-sizing: border-box;\n",
       "  margin-bottom: 0.5em;\n",
       "  /* unfitted */\n",
       "  background-color: var(--sklearn-color-unfitted-level-0);\n",
       "}\n",
       "\n",
       "#sk-container-id-1 div.sk-estimator.fitted {\n",
       "  /* fitted */\n",
       "  background-color: var(--sklearn-color-fitted-level-0);\n",
       "}\n",
       "\n",
       "/* on hover */\n",
       "#sk-container-id-1 div.sk-estimator:hover {\n",
       "  /* unfitted */\n",
       "  background-color: var(--sklearn-color-unfitted-level-2);\n",
       "}\n",
       "\n",
       "#sk-container-id-1 div.sk-estimator.fitted:hover {\n",
       "  /* fitted */\n",
       "  background-color: var(--sklearn-color-fitted-level-2);\n",
       "}\n",
       "\n",
       "/* Specification for estimator info (e.g. \"i\" and \"?\") */\n",
       "\n",
       "/* Common style for \"i\" and \"?\" */\n",
       "\n",
       ".sk-estimator-doc-link,\n",
       "a:link.sk-estimator-doc-link,\n",
       "a:visited.sk-estimator-doc-link {\n",
       "  float: right;\n",
       "  font-size: smaller;\n",
       "  line-height: 1em;\n",
       "  font-family: monospace;\n",
       "  background-color: var(--sklearn-color-background);\n",
       "  border-radius: 1em;\n",
       "  height: 1em;\n",
       "  width: 1em;\n",
       "  text-decoration: none !important;\n",
       "  margin-left: 1ex;\n",
       "  /* unfitted */\n",
       "  border: var(--sklearn-color-unfitted-level-1) 1pt solid;\n",
       "  color: var(--sklearn-color-unfitted-level-1);\n",
       "}\n",
       "\n",
       ".sk-estimator-doc-link.fitted,\n",
       "a:link.sk-estimator-doc-link.fitted,\n",
       "a:visited.sk-estimator-doc-link.fitted {\n",
       "  /* fitted */\n",
       "  border: var(--sklearn-color-fitted-level-1) 1pt solid;\n",
       "  color: var(--sklearn-color-fitted-level-1);\n",
       "}\n",
       "\n",
       "/* On hover */\n",
       "div.sk-estimator:hover .sk-estimator-doc-link:hover,\n",
       ".sk-estimator-doc-link:hover,\n",
       "div.sk-label-container:hover .sk-estimator-doc-link:hover,\n",
       ".sk-estimator-doc-link:hover {\n",
       "  /* unfitted */\n",
       "  background-color: var(--sklearn-color-unfitted-level-3);\n",
       "  color: var(--sklearn-color-background);\n",
       "  text-decoration: none;\n",
       "}\n",
       "\n",
       "div.sk-estimator.fitted:hover .sk-estimator-doc-link.fitted:hover,\n",
       ".sk-estimator-doc-link.fitted:hover,\n",
       "div.sk-label-container:hover .sk-estimator-doc-link.fitted:hover,\n",
       ".sk-estimator-doc-link.fitted:hover {\n",
       "  /* fitted */\n",
       "  background-color: var(--sklearn-color-fitted-level-3);\n",
       "  color: var(--sklearn-color-background);\n",
       "  text-decoration: none;\n",
       "}\n",
       "\n",
       "/* Span, style for the box shown on hovering the info icon */\n",
       ".sk-estimator-doc-link span {\n",
       "  display: none;\n",
       "  z-index: 9999;\n",
       "  position: relative;\n",
       "  font-weight: normal;\n",
       "  right: .2ex;\n",
       "  padding: .5ex;\n",
       "  margin: .5ex;\n",
       "  width: min-content;\n",
       "  min-width: 20ex;\n",
       "  max-width: 50ex;\n",
       "  color: var(--sklearn-color-text);\n",
       "  box-shadow: 2pt 2pt 4pt #999;\n",
       "  /* unfitted */\n",
       "  background: var(--sklearn-color-unfitted-level-0);\n",
       "  border: .5pt solid var(--sklearn-color-unfitted-level-3);\n",
       "}\n",
       "\n",
       ".sk-estimator-doc-link.fitted span {\n",
       "  /* fitted */\n",
       "  background: var(--sklearn-color-fitted-level-0);\n",
       "  border: var(--sklearn-color-fitted-level-3);\n",
       "}\n",
       "\n",
       ".sk-estimator-doc-link:hover span {\n",
       "  display: block;\n",
       "}\n",
       "\n",
       "/* \"?\"-specific style due to the `<a>` HTML tag */\n",
       "\n",
       "#sk-container-id-1 a.estimator_doc_link {\n",
       "  float: right;\n",
       "  font-size: 1rem;\n",
       "  line-height: 1em;\n",
       "  font-family: monospace;\n",
       "  background-color: var(--sklearn-color-background);\n",
       "  border-radius: 1rem;\n",
       "  height: 1rem;\n",
       "  width: 1rem;\n",
       "  text-decoration: none;\n",
       "  /* unfitted */\n",
       "  color: var(--sklearn-color-unfitted-level-1);\n",
       "  border: var(--sklearn-color-unfitted-level-1) 1pt solid;\n",
       "}\n",
       "\n",
       "#sk-container-id-1 a.estimator_doc_link.fitted {\n",
       "  /* fitted */\n",
       "  border: var(--sklearn-color-fitted-level-1) 1pt solid;\n",
       "  color: var(--sklearn-color-fitted-level-1);\n",
       "}\n",
       "\n",
       "/* On hover */\n",
       "#sk-container-id-1 a.estimator_doc_link:hover {\n",
       "  /* unfitted */\n",
       "  background-color: var(--sklearn-color-unfitted-level-3);\n",
       "  color: var(--sklearn-color-background);\n",
       "  text-decoration: none;\n",
       "}\n",
       "\n",
       "#sk-container-id-1 a.estimator_doc_link.fitted:hover {\n",
       "  /* fitted */\n",
       "  background-color: var(--sklearn-color-fitted-level-3);\n",
       "}\n",
       "</style><div id=\"sk-container-id-1\" class=\"sk-top-container\"><div class=\"sk-text-repr-fallback\"><pre>RandomForestClassifier(n_estimators=200)</pre><b>In a Jupyter environment, please rerun this cell to show the HTML representation or trust the notebook. <br />On GitHub, the HTML representation is unable to render, please try loading this page with nbviewer.org.</b></div><div class=\"sk-container\" hidden><div class=\"sk-item\"><div class=\"sk-estimator fitted sk-toggleable\"><input class=\"sk-toggleable__control sk-hidden--visually\" id=\"sk-estimator-id-1\" type=\"checkbox\" checked><label for=\"sk-estimator-id-1\" class=\"sk-toggleable__label fitted sk-toggleable__label-arrow fitted\">&nbsp;&nbsp;RandomForestClassifier<a class=\"sk-estimator-doc-link fitted\" rel=\"noreferrer\" target=\"_blank\" href=\"https://scikit-learn.org/1.5/modules/generated/sklearn.ensemble.RandomForestClassifier.html\">?<span>Documentation for RandomForestClassifier</span></a><span class=\"sk-estimator-doc-link fitted\">i<span>Fitted</span></span></label><div class=\"sk-toggleable__content fitted\"><pre>RandomForestClassifier(n_estimators=200)</pre></div> </div></div></div></div>"
      ],
      "text/plain": [
       "RandomForestClassifier(n_estimators=200)"
      ]
     },
     "execution_count": 29,
     "metadata": {},
     "output_type": "execute_result"
    }
   ],
   "source": [
    "rf.fit(X_train, y_train)"
   ]
  },
  {
   "cell_type": "code",
   "execution_count": 30,
   "metadata": {},
   "outputs": [],
   "source": [
    "y_pred = rf.predict(X_test)"
   ]
  },
  {
   "cell_type": "markdown",
   "metadata": {},
   "source": [
    "Model Evaluation"
   ]
  },
  {
   "cell_type": "code",
   "execution_count": 31,
   "metadata": {},
   "outputs": [],
   "source": [
    "from sklearn.metrics import classification_report, confusion_matrix, accuracy_score"
   ]
  },
  {
   "cell_type": "code",
   "execution_count": 32,
   "metadata": {},
   "outputs": [
    {
     "data": {
      "text/plain": [
       "array([[137, 444],\n",
       "       [161, 489]], dtype=int64)"
      ]
     },
     "execution_count": 32,
     "metadata": {},
     "output_type": "execute_result"
    }
   ],
   "source": [
    "confusion_matrix(y_test, y_pred)"
   ]
  },
  {
   "cell_type": "code",
   "execution_count": 33,
   "metadata": {},
   "outputs": [
    {
     "name": "stdout",
     "output_type": "stream",
     "text": [
      "              precision    recall  f1-score   support\n",
      "\n",
      "           0       0.46      0.24      0.31       581\n",
      "           1       0.52      0.75      0.62       650\n",
      "\n",
      "    accuracy                           0.51      1231\n",
      "   macro avg       0.49      0.49      0.46      1231\n",
      "weighted avg       0.49      0.51      0.47      1231\n",
      "\n"
     ]
    }
   ],
   "source": [
    "print(classification_report(y_test, y_pred))"
   ]
  }
 ],
 "metadata": {
  "kernelspec": {
   "display_name": "MachineLearning",
   "language": "python",
   "name": "python3"
  },
  "language_info": {
   "codemirror_mode": {
    "name": "ipython",
    "version": 3
   },
   "file_extension": ".py",
   "mimetype": "text/x-python",
   "name": "python",
   "nbconvert_exporter": "python",
   "pygments_lexer": "ipython3",
   "version": "3.11.8"
  }
 },
 "nbformat": 4,
 "nbformat_minor": 2
}
